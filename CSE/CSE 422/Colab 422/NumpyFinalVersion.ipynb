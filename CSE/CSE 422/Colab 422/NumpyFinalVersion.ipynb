{
  "nbformat": 4,
  "nbformat_minor": 0,
  "metadata": {
    "colab": {
      "name": "NumpyFinalVersion.ipynb",
      "provenance": [],
      "include_colab_link": true
    },
    "kernelspec": {
      "name": "python3",
      "display_name": "Python 3"
    }
  },
  "cells": [
    {
      "cell_type": "markdown",
      "metadata": {
        "id": "view-in-github",
        "colab_type": "text"
      },
      "source": [
        "<a href=\"https://colab.research.google.com/github/Sakibapon/BRAC/blob/master/NumpyFinalVersion.ipynb\" target=\"_parent\"><img src=\"https://colab.research.google.com/assets/colab-badge.svg\" alt=\"Open In Colab\"/></a>"
      ]
    },
    {
      "cell_type": "markdown",
      "metadata": {
        "id": "hKq1I8B6n_pq",
        "colab_type": "text"
      },
      "source": [
        ""
      ]
    },
    {
      "cell_type": "markdown",
      "metadata": {
        "id": "-ouTQct3OsGT",
        "colab_type": "text"
      },
      "source": [
        "#What is Numpy?"
      ]
    },
    {
      "cell_type": "markdown",
      "metadata": {
        "id": "e2LfL3dbMla1",
        "colab_type": "text"
      },
      "source": [
        "\n",
        "Numpy is a python library provides you with an array data structure that holds some benefits over Python lists, such as: being more compact, faster access in reading and writing items, being more convenient and more efficient.\n",
        "\n",
        "In other words, NumPy is a Python library that is the core library for scientific computing in Python. It contains a collection of tools and techniques that can be used to solve on a computer mathematical models of problems in Science and Engineering. One of these tools is a high-performance multidimensional array object that is a powerful data structure for efficient computation of arrays and matrices.\n",
        "\n",
        "We will create numpy arrays using python and numpy library.\n",
        "Numpy array comes in 2 flavours : \n",
        "1. 1D Vector\n",
        "2. 2D Matrix\n",
        "\n"
      ]
    },
    {
      "cell_type": "markdown",
      "metadata": {
        "id": "plC5ifglYvEA",
        "colab_type": "text"
      },
      "source": [
        "#Creating a normal List\n",
        "\n",
        "> \n",
        "\n",
        "\n"
      ]
    },
    {
      "cell_type": "code",
      "metadata": {
        "id": "IfsxOCGaX9W_",
        "colab_type": "code",
        "colab": {
          "base_uri": "https://localhost:8080/",
          "height": 34
        },
        "outputId": "9bc516d6-3e3e-437b-b944-e1d9b0f61ec4"
      },
      "source": [
        "my_list=[1,2,3]\n",
        "my_list \n"
      ],
      "execution_count": null,
      "outputs": [
        {
          "output_type": "execute_result",
          "data": {
            "text/plain": [
              "[1, 2, 3]"
            ]
          },
          "metadata": {
            "tags": []
          },
          "execution_count": 5
        }
      ]
    },
    {
      "cell_type": "markdown",
      "metadata": {
        "id": "vTinDa-MYinj",
        "colab_type": "text"
      },
      "source": [
        "#Casting a normal python list into a numpy array"
      ]
    },
    {
      "cell_type": "markdown",
      "metadata": {
        "id": "9aef7Ml2PxTB",
        "colab_type": "text"
      },
      "source": [
        "NumPy library follows an import convention: when you import this library, you have to make sure that you import it as **np**. By doing this, you’ll make sure that other Pythonistas understand your code more easily."
      ]
    },
    {
      "cell_type": "code",
      "metadata": {
        "id": "GhbZaAJeYA_x",
        "colab_type": "code",
        "colab": {}
      },
      "source": [
        "import numpy as np\n",
        "a=np.array(my_list)\n"
      ],
      "execution_count": null,
      "outputs": []
    },
    {
      "cell_type": "code",
      "metadata": {
        "id": "Vd6YJsXVNS76",
        "colab_type": "code",
        "colab": {
          "base_uri": "https://localhost:8080/",
          "height": 67
        },
        "outputId": "9d1495d4-c215-47db-e87d-2df34cbb3fb8"
      },
      "source": [
        "my_mat=[[1,2,3],[4,5,6],[7,8,9],[10,11,12]\n",
        "np.array(my_mat)\n"
      ],
      "execution_count": null,
      "outputs": [
        {
          "output_type": "execute_result",
          "data": {
            "text/plain": [
              "array([list([1, 2, 3, 2]), list([4, 5, 6, 6]), list([7, 8, 9, 7]),\n",
              "       list([10, 11, 12.8]), list([1, 2, 4, 8]), list([1, 2, 45, 8])],\n",
              "      dtype=object)"
            ]
          },
          "metadata": {
            "tags": []
          },
          "execution_count": 63
        }
      ]
    },
    {
      "cell_type": "markdown",
      "metadata": {
        "id": "Hvx0mezwVr1F",
        "colab_type": "text"
      },
      "source": [
        "#Numpy own genatation method"
      ]
    },
    {
      "cell_type": "code",
      "metadata": {
        "id": "uANwGXbCfNKp",
        "colab_type": "code",
        "colab": {
          "base_uri": "https://localhost:8080/",
          "height": 34
        },
        "outputId": "ec2ec9dd-080b-4614-9afa-12a89b671d35"
      },
      "source": [
        "np.arange(0,10)"
      ],
      "execution_count": null,
      "outputs": [
        {
          "output_type": "execute_result",
          "data": {
            "text/plain": [
              "array([0, 1, 2, 3, 4, 5, 6, 7, 8, 9])"
            ]
          },
          "metadata": {
            "tags": []
          },
          "execution_count": 8
        }
      ]
    },
    {
      "cell_type": "markdown",
      "metadata": {
        "id": "MxXd7hWPa2FM",
        "colab_type": "text"
      },
      "source": [
        "#Numpy also provides many functions to create arrays:"
      ]
    },
    {
      "cell_type": "code",
      "metadata": {
        "id": "cgOg2p4da5_g",
        "colab_type": "code",
        "colab": {
          "base_uri": "https://localhost:8080/",
          "height": 118
        },
        "outputId": "c9f156a1-eaf5-4ef3-b521-10b1878578b7"
      },
      "source": [
        "import numpy as np\n",
        "\n",
        "a = np.zeros((2,2))   # Create an array of all zeros\n",
        "print(a)              # Prints \"[[ 0.  0.]\n",
        "                      #          [ 0.  0.]]\"\n",
        "\n",
        "b = np.ones((4,2))    # Create an array of all ones\n",
        "print(b)              # Prints \"[[ 1.  1.]]\""
      ],
      "execution_count": null,
      "outputs": [
        {
          "output_type": "stream",
          "text": [
            "[[0. 0.]\n",
            " [0. 0.]]\n",
            "[[1. 1.]\n",
            " [1. 1.]\n",
            " [1. 1.]\n",
            " [1. 1.]]\n"
          ],
          "name": "stdout"
        }
      ]
    },
    {
      "cell_type": "code",
      "metadata": {
        "id": "5P5Yad8eagHf",
        "colab_type": "code",
        "colab": {
          "base_uri": "https://localhost:8080/",
          "height": 50
        },
        "outputId": "509b63f8-f124-4c72-c3c1-672d994c5402"
      },
      "source": [
        "np.linspace(0,10,10)"
      ],
      "execution_count": null,
      "outputs": [
        {
          "output_type": "execute_result",
          "data": {
            "text/plain": [
              "array([ 0.        ,  1.11111111,  2.22222222,  3.33333333,  4.44444444,\n",
              "        5.55555556,  6.66666667,  7.77777778,  8.88888889, 10.        ])"
            ]
          },
          "metadata": {
            "tags": []
          },
          "execution_count": 66
        }
      ]
    },
    {
      "cell_type": "code",
      "metadata": {
        "id": "wtUpkPXBati7",
        "colab_type": "code",
        "colab": {
          "base_uri": "https://localhost:8080/",
          "height": 101
        },
        "outputId": "6dcc995d-1566-432b-db91-6d04a20cb828"
      },
      "source": [
        "np.eye(5) #identitity matrix(2d square matrix)"
      ],
      "execution_count": null,
      "outputs": [
        {
          "output_type": "execute_result",
          "data": {
            "text/plain": [
              "array([[1., 0., 0., 0., 0.],\n",
              "       [0., 1., 0., 0., 0.],\n",
              "       [0., 0., 1., 0., 0.],\n",
              "       [0., 0., 0., 1., 0.],\n",
              "       [0., 0., 0., 0., 1.]])"
            ]
          },
          "metadata": {
            "tags": []
          },
          "execution_count": 67
        }
      ]
    },
    {
      "cell_type": "code",
      "metadata": {
        "id": "QTBl7q9mbARj",
        "colab_type": "code",
        "colab": {
          "base_uri": "https://localhost:8080/",
          "height": 34
        },
        "outputId": "c8a69e16-08dc-4b63-90b8-d7960ff2fa91"
      },
      "source": [
        "#creating arrays of random numbers\n",
        "np.random.rand(5) #uniform distribution from 0 to 1"
      ],
      "execution_count": null,
      "outputs": [
        {
          "output_type": "execute_result",
          "data": {
            "text/plain": [
              "array([0.21291522, 0.33153834, 0.10763181, 0.66616025, 0.57622581])"
            ]
          },
          "metadata": {
            "tags": []
          },
          "execution_count": 12
        }
      ]
    },
    {
      "cell_type": "code",
      "metadata": {
        "id": "Pl5cjuNYb_tS",
        "colab_type": "code",
        "colab": {
          "base_uri": "https://localhost:8080/",
          "height": 101
        },
        "outputId": "3f85b53b-980f-4391-e3fd-025f9d36999e"
      },
      "source": [
        "#creating arrays of random numbers\n",
        "np.random.rand(5,5) # 2D uniform distribute from 0 to 1"
      ],
      "execution_count": null,
      "outputs": [
        {
          "output_type": "execute_result",
          "data": {
            "text/plain": [
              "array([[0.77012301, 0.26355333, 0.52170039, 0.46224365, 0.46815306],\n",
              "       [0.99990464, 0.530256  , 0.7591817 , 0.04866451, 0.0957894 ],\n",
              "       [0.47025353, 0.32650206, 0.30898887, 0.09178975, 0.21586981],\n",
              "       [0.25771434, 0.9752487 , 0.58573739, 0.4458637 , 0.4025186 ],\n",
              "       [0.71015059, 0.59938424, 0.62259241, 0.70765912, 0.38812001]])"
            ]
          },
          "metadata": {
            "tags": []
          },
          "execution_count": 13
        }
      ]
    },
    {
      "cell_type": "code",
      "metadata": {
        "id": "7jux7WkccIgd",
        "colab_type": "code",
        "colab": {
          "base_uri": "https://localhost:8080/",
          "height": 34
        },
        "outputId": "a81f9448-87ad-496c-a2bd-1500b65ac8db"
      },
      "source": [
        "#creating arrays of random numbers\n",
        "np.random.randn(4) # standard normal distribution range from -infinty to infinity"
      ],
      "execution_count": null,
      "outputs": [
        {
          "output_type": "execute_result",
          "data": {
            "text/plain": [
              "array([ 1.74588294,  0.869566  , -0.12160965,  0.17811526])"
            ]
          },
          "metadata": {
            "tags": []
          },
          "execution_count": 68
        }
      ]
    },
    {
      "cell_type": "code",
      "metadata": {
        "id": "ecJwNXgXdwFH",
        "colab_type": "code",
        "colab": {
          "base_uri": "https://localhost:8080/",
          "height": 50
        },
        "outputId": "a18289e0-99fc-4183-cadb-e40c02f4b628"
      },
      "source": [
        "#creating arrays of random numbers\n",
        "np.random.randint(1,100,20)    "
      ],
      "execution_count": null,
      "outputs": [
        {
          "output_type": "execute_result",
          "data": {
            "text/plain": [
              "array([ 9, 95, 91, 86, 66, 97, 42, 69, 10,  6, 30, 88, 32, 61, 60, 50, 84,\n",
              "       49,  9, 42])"
            ]
          },
          "metadata": {
            "tags": []
          },
          "execution_count": 71
        }
      ]
    },
    {
      "cell_type": "code",
      "metadata": {
        "id": "d8yUP_oT3xrd",
        "colab_type": "code",
        "colab": {
          "base_uri": "https://localhost:8080/",
          "height": 34
        },
        "outputId": "9f51a122-3402-4c3d-e091-6fb4fd99fd53"
      },
      "source": [
        "#gives you 6 numbers randomly from 0-(10-1)\n",
        "x1 = np.random.randint(10, size=6)\n",
        "x1"
      ],
      "execution_count": null,
      "outputs": [
        {
          "output_type": "execute_result",
          "data": {
            "text/plain": [
              "array([8, 5, 3, 2, 9, 3])"
            ]
          },
          "metadata": {
            "tags": []
          },
          "execution_count": 56
        }
      ]
    },
    {
      "cell_type": "code",
      "metadata": {
        "id": "eoj-joau33L7",
        "colab_type": "code",
        "colab": {
          "base_uri": "https://localhost:8080/",
          "height": 286
        },
        "outputId": "39de885e-a23c-4b08-948a-99efd895e7c1"
      },
      "source": [
        "x2 = np.random.randint(10, size=(3,4,3))\n",
        "print(x2)\n",
        "print(x2.shape)\n",
        "print(f\"Dimensiion = {x2.ndim}\")"
      ],
      "execution_count": null,
      "outputs": [
        {
          "output_type": "stream",
          "text": [
            "[[[7 2 7]\n",
            "  [4 1 1]\n",
            "  [2 1 5]\n",
            "  [1 1 8]]\n",
            "\n",
            " [[6 0 3]\n",
            "  [9 3 9]\n",
            "  [1 0 9]\n",
            "  [6 0 7]]\n",
            "\n",
            " [[5 6 3]\n",
            "  [1 0 3]\n",
            "  [4 6 6]\n",
            "  [9 5 5]]]\n",
            "(3, 4, 3)\n",
            "Dimensiion = 3\n"
          ],
          "name": "stdout"
        }
      ]
    },
    {
      "cell_type": "code",
      "metadata": {
        "id": "pHSIxk_hePZC",
        "colab_type": "code",
        "colab": {
          "base_uri": "https://localhost:8080/",
          "height": 50
        },
        "outputId": "8b3b6bdb-0efa-4c27-ea79-52e4f5201d54"
      },
      "source": [
        "#creating max and min value in array\n",
        "my_arr=np.array([1,-3,4,5,3,4,56,7,-34])\n",
        "print(my_arr.min())\n",
        "print(my_arr.max())"
      ],
      "execution_count": null,
      "outputs": [
        {
          "output_type": "stream",
          "text": [
            "-34\n",
            "56\n"
          ],
          "name": "stdout"
        }
      ]
    },
    {
      "cell_type": "code",
      "metadata": {
        "id": "qIN6xH9If1WR",
        "colab_type": "code",
        "colab": {
          "base_uri": "https://localhost:8080/",
          "height": 50
        },
        "outputId": "37a52028-bd8a-4642-fc74-77275e40bc3b"
      },
      "source": [
        "#returning index number max and min value in array\n",
        "print(my_arr.argmin())\n",
        "print(my_arr.argmax())"
      ],
      "execution_count": null,
      "outputs": [
        {
          "output_type": "stream",
          "text": [
            "8\n",
            "6\n"
          ],
          "name": "stdout"
        }
      ]
    },
    {
      "cell_type": "code",
      "metadata": {
        "id": "-Oc052Orhr3H",
        "colab_type": "code",
        "colab": {
          "base_uri": "https://localhost:8080/",
          "height": 34
        },
        "outputId": "9cef9066-f747-4368-fe83-58f1fe60a3e2"
      },
      "source": [
        "#how to find the shape of vector?\n",
        "my_arr.shape"
      ],
      "execution_count": null,
      "outputs": [
        {
          "output_type": "execute_result",
          "data": {
            "text/plain": [
              "(9,)"
            ]
          },
          "metadata": {
            "tags": []
          },
          "execution_count": 20
        }
      ]
    },
    {
      "cell_type": "code",
      "metadata": {
        "id": "iLOsT8fBh5UN",
        "colab_type": "code",
        "colab": {
          "base_uri": "https://localhost:8080/",
          "height": 67
        },
        "outputId": "8b0e9091-5fcc-433e-8d36-99a5c9f6a398"
      },
      "source": [
        "#how to reshape vector?\n",
        "my_arr.reshape(3,3)"
      ],
      "execution_count": null,
      "outputs": [
        {
          "output_type": "execute_result",
          "data": {
            "text/plain": [
              "array([[  1,  -3,   4],\n",
              "       [  5,   3,   4],\n",
              "       [ 56,   7, -34]])"
            ]
          },
          "metadata": {
            "tags": []
          },
          "execution_count": 78
        }
      ]
    },
    {
      "cell_type": "code",
      "metadata": {
        "id": "TIiMfZDSicbi",
        "colab_type": "code",
        "colab": {
          "base_uri": "https://localhost:8080/",
          "height": 34
        },
        "outputId": "0f72f49b-36ec-480b-fae5-42dc7d5c21fe"
      },
      "source": [
        "#how to know  what the data type value we have in array ?\n",
        "\n",
        "my_arr.dtype"
      ],
      "execution_count": null,
      "outputs": [
        {
          "output_type": "execute_result",
          "data": {
            "text/plain": [
              "dtype('int64')"
            ]
          },
          "metadata": {
            "tags": []
          },
          "execution_count": 22
        }
      ]
    },
    {
      "cell_type": "code",
      "metadata": {
        "id": "iKoE0W5jjskf",
        "colab_type": "code",
        "colab": {
          "base_uri": "https://localhost:8080/",
          "height": 50
        },
        "outputId": "3ec8d227-5333-4a7c-9f2f-cafc48f16377"
      },
      "source": [
        "#append\n",
        "import numpy as np\n",
        "new_arr=np.arange(1,11)\n",
        "print(new_arr)\n",
        "new_arr= np.append(new_arr,100)\n",
        "print(new_arr)"
      ],
      "execution_count": null,
      "outputs": [
        {
          "output_type": "stream",
          "text": [
            "[ 1  2  3  4  5  6  7  8  9 10]\n",
            "[  1   2   3   4   5   6   7   8   9  10 100]\n"
          ],
          "name": "stdout"
        }
      ]
    },
    {
      "cell_type": "code",
      "metadata": {
        "id": "bCISt5wt5xVR",
        "colab_type": "code",
        "colab": {
          "base_uri": "https://localhost:8080/",
          "height": 101
        },
        "outputId": "0a3fec44-3d95-40e0-9d6d-c333e0c9c23f"
      },
      "source": [
        "import numpy as np\n",
        "a = np.array([[1,2,3],[4,5,6]])\n",
        "print(a)\n",
        "b= np.array([[400],[800]])\n",
        "print(b)\n",
        "newarr = np.append(a, b,axis=1 )\n",
        "print(newarr)"
      ],
      "execution_count": null,
      "outputs": [
        {
          "output_type": "stream",
          "text": [
            "[[1 2 3]\n",
            " [4 5 6]]\n",
            "[[400]\n",
            " [800]]\n",
            "[  1   2   3   4   5   6 400 800]\n"
          ],
          "name": "stdout"
        }
      ]
    },
    {
      "cell_type": "code",
      "metadata": {
        "id": "nneWFjDu57U4",
        "colab_type": "code",
        "colab": {
          "base_uri": "https://localhost:8080/",
          "height": 50
        },
        "outputId": "1bba87e3-6e25-4647-d698-01cdffdaa0ea"
      },
      "source": [
        "import numpy as np\n",
        "a = np.array([[1,2,3],[4,5,6]])\n",
        "b= np.array([[400],[800]])\n",
        "newarr = np.append(a, b)\n",
        "print(newarr)"
      ],
      "execution_count": null,
      "outputs": [
        {
          "output_type": "stream",
          "text": [
            "[[  1   2   3 400]\n",
            " [  4   5   6 800]]\n"
          ],
          "name": "stdout"
        }
      ]
    },
    {
      "cell_type": "code",
      "metadata": {
        "id": "BgcZLj97jxPj",
        "colab_type": "code",
        "colab": {
          "base_uri": "https://localhost:8080/",
          "height": 50
        },
        "outputId": "db9033a8-0cd0-4260-9630-0c3755552e94"
      },
      "source": [
        "#insert\n",
        "a= np.array([1 , 2, 3])\n",
        "print( a) \n",
        "new_array= np.insert(a,0, 1000)\n",
        "print(new_array)"
      ],
      "execution_count": null,
      "outputs": [
        {
          "output_type": "stream",
          "text": [
            "[1 2 3]\n",
            "[1000    1    2    3]\n"
          ],
          "name": "stdout"
        }
      ]
    },
    {
      "cell_type": "code",
      "metadata": {
        "id": "bqUKXsiIjurJ",
        "colab_type": "code",
        "colab": {
          "base_uri": "https://localhost:8080/",
          "height": 118
        },
        "outputId": "12f1c98e-df96-4dd7-e369-12f81add98e5"
      },
      "source": [
        "#delete\n",
        "import numpy as np\n",
        "a = np.array([[1,2,3],[4,5,6],[10,20,30]])\n",
        "\n",
        "print(a)\n",
        "narr = np.delete(a,1,axis=1)\n",
        "print(narr)"
      ],
      "execution_count": null,
      "outputs": [
        {
          "output_type": "stream",
          "text": [
            "[[ 1  2  3]\n",
            " [ 4  5  6]\n",
            " [10 20 30]]\n",
            "[[ 1  3]\n",
            " [ 4  6]\n",
            " [10 30]]\n"
          ],
          "name": "stdout"
        }
      ]
    },
    {
      "cell_type": "code",
      "metadata": {
        "id": "hrjLbeTe1-y1",
        "colab_type": "code",
        "colab": {
          "base_uri": "https://localhost:8080/",
          "height": 34
        },
        "outputId": "9eaa3bc0-eb10-4ac7-935a-a7e3a0b6e252"
      },
      "source": [
        "#finding the index of a value in the array usin where() method\n",
        "a = np.array([1 , 2 ,3, 5 ,4 ,5])\n",
        "print(np.where(a==5))"
      ],
      "execution_count": null,
      "outputs": [
        {
          "output_type": "stream",
          "text": [
            "(array([3, 5]),)\n"
          ],
          "name": "stdout"
        }
      ]
    },
    {
      "cell_type": "markdown",
      "metadata": {
        "id": "tgqWS_m72Ul2",
        "colab_type": "text"
      },
      "source": [
        "#Numpy Indexing and Selection\n"
      ]
    },
    {
      "cell_type": "code",
      "metadata": {
        "id": "okJRj-mc2RC5",
        "colab_type": "code",
        "colab": {
          "base_uri": "https://localhost:8080/",
          "height": 67
        },
        "outputId": "caaf8ec1-e919-4e9d-e108-8c23531e7be4"
      },
      "source": [
        "import numpy as np\n",
        "a = np.array([[1,2,3],[4,5,6],[7,8,9]])\n",
        "print(a)\n"
      ],
      "execution_count": null,
      "outputs": [
        {
          "output_type": "stream",
          "text": [
            "[[1 2 3]\n",
            " [4 5 6]\n",
            " [7 8 9]]\n"
          ],
          "name": "stdout"
        }
      ]
    },
    {
      "cell_type": "code",
      "metadata": {
        "id": "8ikiVcPW6Qo4",
        "colab_type": "code",
        "colab": {
          "base_uri": "https://localhost:8080/",
          "height": 34
        },
        "outputId": "931d2740-86f4-4c6c-809e-59d023379c1e"
      },
      "source": [
        "a[1,2]"
      ],
      "execution_count": null,
      "outputs": [
        {
          "output_type": "execute_result",
          "data": {
            "text/plain": [
              "6"
            ]
          },
          "metadata": {
            "tags": []
          },
          "execution_count": 105
        }
      ]
    },
    {
      "cell_type": "code",
      "metadata": {
        "id": "4QHh5Fo46kEV",
        "colab_type": "code",
        "colab": {
          "base_uri": "https://localhost:8080/",
          "height": 67
        },
        "outputId": "1000a7a9-f56f-4b46-eb81-108d4203a5bd"
      },
      "source": [
        "a[:,1:2]\n"
      ],
      "execution_count": null,
      "outputs": [
        {
          "output_type": "execute_result",
          "data": {
            "text/plain": [
              "array([[ 2],\n",
              "       [ 5],\n",
              "       [20]])"
            ]
          },
          "metadata": {
            "tags": []
          },
          "execution_count": 107
        }
      ]
    },
    {
      "cell_type": "code",
      "metadata": {
        "id": "KA17YczkUgek",
        "colab_type": "code",
        "colab": {
          "base_uri": "https://localhost:8080/",
          "height": 50
        },
        "outputId": "7b25c7f9-6807-43d5-ca97-bcdebb35f3f4"
      },
      "source": [
        "a[:2,1:]"
      ],
      "execution_count": null,
      "outputs": [
        {
          "output_type": "execute_result",
          "data": {
            "text/plain": [
              "array([[2, 3],\n",
              "       [5, 6]])"
            ]
          },
          "metadata": {
            "tags": []
          },
          "execution_count": 32
        }
      ]
    },
    {
      "cell_type": "code",
      "metadata": {
        "id": "KMDJUt-n6k48",
        "colab_type": "code",
        "colab": {
          "base_uri": "https://localhost:8080/",
          "height": 67
        },
        "outputId": "348bff03-6bfb-4a08-8f4a-14cae597309c"
      },
      "source": [
        "#conditional selection\n",
        "b = a > 2  #take an array and combine with conditional operate to get a boolean values/arrays\n",
        "print(b)"
      ],
      "execution_count": null,
      "outputs": [
        {
          "output_type": "stream",
          "text": [
            "[[False False  True]\n",
            " [ True  True  True]\n",
            " [ True  True  True]]\n"
          ],
          "name": "stdout"
        }
      ]
    },
    {
      "cell_type": "code",
      "metadata": {
        "id": "wjmUWgUvVM7C",
        "colab_type": "code",
        "colab": {
          "base_uri": "https://localhost:8080/",
          "height": 34
        },
        "outputId": "b9db214f-d3f1-470a-f80e-cb533a3d7394"
      },
      "source": [
        "#return only those elements those were true using bollean array\n",
        "a[b] "
      ],
      "execution_count": null,
      "outputs": [
        {
          "output_type": "execute_result",
          "data": {
            "text/plain": [
              "array([3, 4, 5, 6, 7, 8, 9])"
            ]
          },
          "metadata": {
            "tags": []
          },
          "execution_count": 34
        }
      ]
    },
    {
      "cell_type": "code",
      "metadata": {
        "id": "YjNwNCW_WKpN",
        "colab_type": "code",
        "colab": {
          "base_uri": "https://localhost:8080/",
          "height": 34
        },
        "outputId": "d6cde42b-8f52-401b-9291-3a8711bc5cd5"
      },
      "source": [
        "#in one go!!\n",
        "a[a>2]"
      ],
      "execution_count": null,
      "outputs": [
        {
          "output_type": "execute_result",
          "data": {
            "text/plain": [
              "array([3, 4, 5, 6, 7, 8, 9])"
            ]
          },
          "metadata": {
            "tags": []
          },
          "execution_count": 35
        }
      ]
    },
    {
      "cell_type": "code",
      "metadata": {
        "id": "0r8-h05c6tkm",
        "colab_type": "code",
        "colab": {
          "base_uri": "https://localhost:8080/",
          "height": 67
        },
        "outputId": "19dcb082-ae9c-4333-e76a-65a7a99c9083"
      },
      "source": [
        "a1 = np.array([[1,2,3],[4,5,6],[9,10,11]])\n",
        "print(a1)"
      ],
      "execution_count": null,
      "outputs": [
        {
          "output_type": "stream",
          "text": [
            "[[ 1  2  3]\n",
            " [ 4  5  6]\n",
            " [ 9 10 11]]\n"
          ],
          "name": "stdout"
        }
      ]
    },
    {
      "cell_type": "code",
      "metadata": {
        "id": "k7bP8xVi6urV",
        "colab_type": "code",
        "colab": {
          "base_uri": "https://localhost:8080/",
          "height": 67
        },
        "outputId": "3a64c4eb-1026-4f2b-acf6-0de7fbbb5bde"
      },
      "source": [
        "\n",
        "a1[a1<=2]=0\n",
        "a1[a1>2]=1\n",
        "a1"
      ],
      "execution_count": null,
      "outputs": [
        {
          "output_type": "execute_result",
          "data": {
            "text/plain": [
              "array([[0, 0, 1],\n",
              "       [1, 1, 1],\n",
              "       [1, 1, 1]])"
            ]
          },
          "metadata": {
            "tags": []
          },
          "execution_count": 37
        }
      ]
    },
    {
      "cell_type": "markdown",
      "metadata": {
        "id": "SMSKPX3fZvYh",
        "colab_type": "text"
      },
      "source": [
        "#NumPy Operations"
      ]
    },
    {
      "cell_type": "code",
      "metadata": {
        "id": "pu0aibECZ3LI",
        "colab_type": "code",
        "colab": {
          "base_uri": "https://localhost:8080/",
          "height": 34
        },
        "outputId": "bad935a7-ec51-4bad-b1db-c5084b3eaa93"
      },
      "source": [
        "import numpy as np\n",
        "arr=np.arange(0,11)\n",
        "arr2=np.arange(0,11)\n",
        "arr\n"
      ],
      "execution_count": null,
      "outputs": [
        {
          "output_type": "execute_result",
          "data": {
            "text/plain": [
              "array([ 0,  1,  2,  3,  4,  5,  6,  7,  8,  9, 10])"
            ]
          },
          "metadata": {
            "tags": []
          },
          "execution_count": 108
        }
      ]
    },
    {
      "cell_type": "code",
      "metadata": {
        "id": "xal_Nh8mbSxN",
        "colab_type": "code",
        "colab": {
          "base_uri": "https://localhost:8080/",
          "height": 34
        },
        "outputId": "832b7700-5076-463b-b497-92132bdef628"
      },
      "source": [
        "#addition\n",
        "arr+arr2"
      ],
      "execution_count": null,
      "outputs": [
        {
          "output_type": "execute_result",
          "data": {
            "text/plain": [
              "array([ 0,  2,  4,  6,  8, 10, 12, 14, 16, 18, 20])"
            ]
          },
          "metadata": {
            "tags": []
          },
          "execution_count": 109
        }
      ]
    },
    {
      "cell_type": "code",
      "metadata": {
        "id": "a-3qze30bUwZ",
        "colab_type": "code",
        "colab": {
          "base_uri": "https://localhost:8080/",
          "height": 34
        },
        "outputId": "35f5bf0e-d715-4c40-9411-7c54a04fd495"
      },
      "source": [
        "#substraction\n",
        "arr-arr"
      ],
      "execution_count": null,
      "outputs": [
        {
          "output_type": "execute_result",
          "data": {
            "text/plain": [
              "array([0, 0, 0, 0, 0, 0, 0, 0, 0, 0, 0])"
            ]
          },
          "metadata": {
            "tags": []
          },
          "execution_count": 40
        }
      ]
    },
    {
      "cell_type": "code",
      "metadata": {
        "id": "DFOaXrV1bWyg",
        "colab_type": "code",
        "colab": {
          "base_uri": "https://localhost:8080/",
          "height": 34
        },
        "outputId": "a23aa476-20e8-499a-f0a8-44b21e2dc68f"
      },
      "source": [
        "#multiplication\n",
        "arr*arr"
      ],
      "execution_count": null,
      "outputs": [
        {
          "output_type": "execute_result",
          "data": {
            "text/plain": [
              "array([  0,   1,   4,   9,  16,  25,  36,  49,  64,  81, 100])"
            ]
          },
          "metadata": {
            "tags": []
          },
          "execution_count": 41
        }
      ]
    },
    {
      "cell_type": "code",
      "metadata": {
        "id": "9QNo4sewduap",
        "colab_type": "code",
        "colab": {
          "base_uri": "https://localhost:8080/",
          "height": 67
        },
        "outputId": "bbbedea1-a2c6-4150-9eb2-ecfc8de468fe"
      },
      "source": [
        "arr/arr"
      ],
      "execution_count": null,
      "outputs": [
        {
          "output_type": "stream",
          "text": [
            "/usr/local/lib/python3.6/dist-packages/ipykernel_launcher.py:1: RuntimeWarning: invalid value encountered in true_divide\n",
            "  \"\"\"Entry point for launching an IPython kernel.\n"
          ],
          "name": "stderr"
        },
        {
          "output_type": "execute_result",
          "data": {
            "text/plain": [
              "array([nan,  1.,  1.,  1.,  1.,  1.,  1.,  1.,  1.,  1.,  1.])"
            ]
          },
          "metadata": {
            "tags": []
          },
          "execution_count": 42
        }
      ]
    },
    {
      "cell_type": "code",
      "metadata": {
        "id": "18YxqoO3daa1",
        "colab_type": "code",
        "colab": {
          "base_uri": "https://localhost:8080/",
          "height": 165
        },
        "outputId": "71917109-4039-4307-dc36-467f33d0c567"
      },
      "source": [
        "#scaling an array\n",
        "arr+100\n",
        "#to the power\n",
        "#squareroot\n",
        "#sin\n",
        "#log\n",
        "#max/min\n",
        "\n",
        "https://numpy.org/doc/stable/reference/ufuncs.html#:~:text=That%20is%2C%20a%20ufunc%20is,implemented%20in%20compiled%20C%20code.\n"
      ],
      "execution_count": null,
      "outputs": [
        {
          "output_type": "error",
          "ename": "SyntaxError",
          "evalue": "ignored",
          "traceback": [
            "\u001b[0;36m  File \u001b[0;32m\"<ipython-input-43-f85702d25b57>\"\u001b[0;36m, line \u001b[0;32m9\u001b[0m\n\u001b[0;31m    https://numpy.org/doc/stable/reference/ufuncs.html#:~:text=That%20is%2C%20a%20ufunc%20is,implemented%20in%20compiled%20C%20code.\u001b[0m\n\u001b[0m           ^\u001b[0m\n\u001b[0;31mSyntaxError\u001b[0m\u001b[0;31m:\u001b[0m invalid syntax\n"
          ]
        }
      ]
    }
  ]
}