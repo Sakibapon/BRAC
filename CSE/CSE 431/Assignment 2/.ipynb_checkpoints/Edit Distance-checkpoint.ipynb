{
 "cells": [
  {
   "cell_type": "code",
   "execution_count": 1,
   "metadata": {},
   "outputs": [
    {
     "name": "stdout",
     "output_type": "stream",
     "text": [
      "(7, [0, 1, 2, 3, 4, 1, 2, 3, 4, 5, 2, 1, 3, 5, 6, 3, 3, 3, 5, 7, 4, 5, 5, 5, 7, 5, 6, 7, 7, 7])\n"
     ]
    }
   ],
   "source": [
    "def editdistance(str1, str2, m, n):\n",
    "    dp = [[0 for x in range(n + 1)] for x in range(m + 1)]\n",
    "    temp_li = []\n",
    "    for i in range(m + 1):\n",
    "        for j in range(n + 1):\n",
    "            if i == 0:\n",
    "                dp[i][j] = j \n",
    "\n",
    "            elif j == 0:\n",
    "                dp[i][j] = i \n",
    "\n",
    "            elif str1[i-1] == str2[j-1]:\n",
    "                dp[i][j] = dp[i-1][j-1]\n",
    "\n",
    "            else:\n",
    "                dp[i][j] = 2 + min(dp[i][j-1], dp[i-1][j], dp[i-1][j-1])    \n",
    "            temp_li.append(dp[i][j])\n",
    "    \n",
    "    return dp[m][n],temp_li\n",
    "\n",
    "str1 = \"sakib\"\n",
    "str2 = \"apon\"\n",
    "print(editdistance(str1, str2, len(str1), len(str2)))"
   ]
  },
  {
   "cell_type": "code",
   "execution_count": null,
   "metadata": {},
   "outputs": [],
   "source": []
  }
 ],
 "metadata": {
  "kernelspec": {
   "display_name": "Python 3",
   "language": "python",
   "name": "python3"
  },
  "language_info": {
   "codemirror_mode": {
    "name": "ipython",
    "version": 3
   },
   "file_extension": ".py",
   "mimetype": "text/x-python",
   "name": "python",
   "nbconvert_exporter": "python",
   "pygments_lexer": "ipython3",
   "version": "3.7.9"
  }
 },
 "nbformat": 4,
 "nbformat_minor": 4
}
