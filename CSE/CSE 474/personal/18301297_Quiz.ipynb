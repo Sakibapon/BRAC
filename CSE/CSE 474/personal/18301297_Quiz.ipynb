{
 "cells": [
  {
   "cell_type": "code",
   "execution_count": 14,
   "metadata": {},
   "outputs": [],
   "source": [
    "import sympy\n",
    "from sympy import *\n",
    "init_printing(use_unicode=True)"
   ]
  },
  {
   "cell_type": "code",
   "execution_count": 15,
   "metadata": {},
   "outputs": [],
   "source": [
    "#t,e = symbols('t e') \n",
    "t = Symbol('t')"
   ]
  },
  {
   "cell_type": "code",
   "execution_count": 16,
   "metadata": {},
   "outputs": [
    {
     "name": "stdout",
     "output_type": "stream",
     "text": [
      "       t              \n",
      "       ─              \n",
      "       2              \n",
      "      ℯ               \n",
      "2⋅t + ── + sinh(t + 1)\n",
      "      2               \n"
     ]
    }
   ],
   "source": [
    "exps = (2*t) + (exp(t/2)/2) + (sinh(t+1))\n",
    "pprint(simplify(exps))"
   ]
  },
  {
   "cell_type": "code",
   "execution_count": 17,
   "metadata": {},
   "outputs": [
    {
     "name": "stdout",
     "output_type": "stream",
     "text": [
      "Position:  5.79604371624112\n"
     ]
    }
   ],
   "source": [
    "trail1 = integrate(exps, t) \n",
    "print(\"Position: \",trail1.subs(t, 0.9))"
   ]
  },
  {
   "cell_type": "code",
   "execution_count": 18,
   "metadata": {},
   "outputs": [
    {
     "name": "stdout",
     "output_type": "stream",
     "text": [
      "Velocity:  5.85231900427340\n"
     ]
    }
   ],
   "source": [
    "print(\"Velocity: \",exps.subs(t,0.9))"
   ]
  },
  {
   "cell_type": "code",
   "execution_count": 19,
   "metadata": {},
   "outputs": [
    {
     "name": "stdout",
     "output_type": "stream",
     "text": [
      "Acceleration:  5.80980957712349\n"
     ]
    }
   ],
   "source": [
    "trail2 = diff(exps, t) \n",
    "print(\"Acceleration: \",trail2.subs(t,0.9))"
   ]
  },
  {
   "cell_type": "code",
   "execution_count": null,
   "metadata": {},
   "outputs": [],
   "source": []
  }
 ],
 "metadata": {
  "kernelspec": {
   "display_name": "Python 3",
   "language": "python",
   "name": "python3"
  },
  "language_info": {
   "codemirror_mode": {
    "name": "ipython",
    "version": 3
   },
   "file_extension": ".py",
   "mimetype": "text/x-python",
   "name": "python",
   "nbconvert_exporter": "python",
   "pygments_lexer": "ipython3",
   "version": "3.7.7"
  }
 },
 "nbformat": 4,
 "nbformat_minor": 4
}
