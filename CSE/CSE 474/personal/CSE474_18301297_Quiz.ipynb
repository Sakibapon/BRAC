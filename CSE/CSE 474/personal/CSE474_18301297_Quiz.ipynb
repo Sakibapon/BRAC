{
  "nbformat": 4,
  "nbformat_minor": 0,
  "metadata": {
    "kernelspec": {
      "display_name": "Python 3",
      "language": "python",
      "name": "python3"
    },
    "language_info": {
      "codemirror_mode": {
        "name": "ipython",
        "version": 3
      },
      "file_extension": ".py",
      "mimetype": "text/x-python",
      "name": "python",
      "nbconvert_exporter": "python",
      "pygments_lexer": "ipython3",
      "version": "3.7.7"
    },
    "colab": {
      "name": "18301297_Quiz.ipynb",
      "provenance": [],
      "include_colab_link": true
    }
  },
  "cells": [
    {
      "cell_type": "markdown",
      "metadata": {
        "id": "view-in-github",
        "colab_type": "text"
      },
      "source": [
        "<a href=\"https://colab.research.google.com/github/Sakibapon/BRAC/blob/master/CSE474_18301297_Quiz.ipynb\" target=\"_parent\"><img src=\"https://colab.research.google.com/assets/colab-badge.svg\" alt=\"Open In Colab\"/></a>"
      ]
    },
    {
      "cell_type": "code",
      "metadata": {
        "id": "RWnM1Lf9m2EC"
      },
      "source": [
        "import sympy\n",
        "from sympy import *\n",
        "init_printing(use_unicode=True)"
      ],
      "execution_count": null,
      "outputs": []
    },
    {
      "cell_type": "code",
      "metadata": {
        "id": "Us2XDcgum2EH"
      },
      "source": [
        "#t,e = symbols('t e') \n",
        "t = Symbol('t')"
      ],
      "execution_count": null,
      "outputs": []
    },
    {
      "cell_type": "code",
      "metadata": {
        "id": "5TyLZUHpm2EJ",
        "outputId": "d7f38420-7c5c-4849-aff4-909d559a25c5"
      },
      "source": [
        "exps = (2*t) + (exp(t/2)/2) + (sinh(t+1))\n",
        "pprint(simplify(exps))"
      ],
      "execution_count": null,
      "outputs": [
        {
          "output_type": "stream",
          "text": [
            "       t              \n",
            "       ─              \n",
            "       2              \n",
            "      ℯ               \n",
            "2⋅t + ── + sinh(t + 1)\n",
            "      2               \n"
          ],
          "name": "stdout"
        }
      ]
    },
    {
      "cell_type": "code",
      "metadata": {
        "id": "twcYSe33m2EM",
        "outputId": "16827ee4-02b9-4c6e-f384-f9bb0125d0d7"
      },
      "source": [
        "trail1 = integrate(exps, t) \n",
        "print(\"Position: \",trail1.subs(t, 0.9))"
      ],
      "execution_count": null,
      "outputs": [
        {
          "output_type": "stream",
          "text": [
            "Position:  5.79604371624112\n"
          ],
          "name": "stdout"
        }
      ]
    },
    {
      "cell_type": "code",
      "metadata": {
        "id": "Ay40ssWkm2EP",
        "outputId": "32de9f81-6849-47c1-b46f-18d37dfe00ad"
      },
      "source": [
        "print(\"Velocity: \",exps.subs(t,0.9))"
      ],
      "execution_count": null,
      "outputs": [
        {
          "output_type": "stream",
          "text": [
            "Velocity:  5.85231900427340\n"
          ],
          "name": "stdout"
        }
      ]
    },
    {
      "cell_type": "code",
      "metadata": {
        "id": "D5Lm9ZyYm2ER",
        "outputId": "d5b937ad-0f20-4479-8a6f-2c20f0ffa768"
      },
      "source": [
        "trail2 = diff(exps, t) \n",
        "print(\"Acceleration: \",trail2.subs(t,0.9))"
      ],
      "execution_count": null,
      "outputs": [
        {
          "output_type": "stream",
          "text": [
            "Acceleration:  5.80980957712349\n"
          ],
          "name": "stdout"
        }
      ]
    },
    {
      "cell_type": "code",
      "metadata": {
        "id": "JRDEM2Qfm2EU"
      },
      "source": [
        ""
      ],
      "execution_count": null,
      "outputs": []
    }
  ]
}